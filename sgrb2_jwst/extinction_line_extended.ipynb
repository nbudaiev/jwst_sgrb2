{
 "cells": [
  {
   "cell_type": "code",
   "execution_count": 1,
   "id": "cdd15f0a",
   "metadata": {},
   "outputs": [],
   "source": [
    "from astropy.io import fits\n",
    "import matplotlib.pyplot as plt\n",
    "from astropy import wcs\n",
    "from astroquery.svo_fps import SvoFps\n",
    "import numpy as np\n",
    "import reproject\n",
    "from astropy.visualization import simple_norm\n",
    "basepath = '/orange/adamginsburg/jwst/sgrb2/NB'\n",
    "import os\n",
    "import astropy.units as u"
   ]
  },
  {
   "cell_type": "code",
   "execution_count": 2,
   "id": "dfc5c382",
   "metadata": {},
   "outputs": [],
   "source": [
    "fh_405 = fits.open('/orange/adamginsburg/jwst/sgrb2/NB/F405N/pipeline/jw05365-o001_t001_nircam_clear-f405n-merged_i2d.fits')\n",
    "fh_410 = fits.open('/orange/adamginsburg/jwst/sgrb2/NB/F410M/pipeline/jw05365-o001_t001_nircam_clear-f410m-merged_i2d.fits')\n",
    "file = '/orange/adamginsburg/jwst/sgrb2/NB/F405_minus_F410cont_pipeline_v0.1.fits'\n",
    "if os.path.exists(file):\n",
    "    bra_minus_cont = fits.getdata(file)\n",
    "    #header = fits.getheader(file)\n",
    "    #ww = wcs.WCS(header)\n",
    "else:\n",
    "\n",
    "    ww405 = wcs.WCS(fh_405['SCI'].header)\n",
    "    ww410 = wcs.WCS(fh_410['SCI'].header)\n",
    "    instrument = fh_405[0].header['INSTRUME']\n",
    "    telescope = fh_405[0].header['TELESCOP']\n",
    "    filt405 = fh_405[0].header['PUPIL']\n",
    "    wavelength_table_405 = SvoFps.get_transmission_data(f'{telescope}/{instrument}.{filt405}')\n",
    "    filt410 = fh_410[0].header['FILTER']\n",
    "    wavelength_table_410 = SvoFps.get_transmission_data(f'{telescope}/{instrument}.{filt410}')\n",
    "    waves_410 = wavelength_table_410['Wavelength']\n",
    "    trans_405 = np.interp(waves_410, wavelength_table_405['Wavelength'], wavelength_table_405['Transmission'])\n",
    "    trans_410 = wavelength_table_410['Transmission']\n",
    "\n",
    "    fractional_bandwidth_405 = ( (trans_410/trans_410.max()) * (trans_405/trans_405.max()) ).sum() / (trans_410/trans_410.max()).sum()\n",
    "\n",
    "    data_405_proj_410 = reproject.reproject_exact(fh_405['SCI'], fh_410['SCI'].header)\n",
    "    cont410_sub_bra = (fh_410['SCI'].data - data_405_proj_410[0]*fractional_bandwidth_405) / (1-fractional_bandwidth_405)\n",
    "    #fits.PrimaryHDU(data=cont410_sub_bra, header=fh_410['SCI'].header).writeto(f'{basepath}/F410_minus_F405_fractional_bandwidth.fits', overwrite=True)\n",
    "    bra_minus_cont = data_405_proj_410[0] - cont410_sub_bra #* fractional_bandwidth_405\n",
    "    fits.PrimaryHDU(data=bra_minus_cont, header=fh_410['SCI'].header).writeto(f'{file}', overwrite=False)"
   ]
  },
  {
   "cell_type": "code",
   "execution_count": 3,
   "id": "6379f466",
   "metadata": {},
   "outputs": [],
   "source": [
    "fh_187 = fits.open('/orange/adamginsburg/jwst/sgrb2/NB/F187N/pipeline/jw05365-o001_t001_nircam_clear-f187n-merged_i2d.fits')\n",
    "fh_182 = fits.open('/orange/adamginsburg/jwst/sgrb2/NB/F182M/pipeline/jw05365-o001_t001_nircam_clear-f182m-merged_i2d.fits')\n",
    "file = '/orange/adamginsburg/jwst/sgrb2/NB/F187_minus_F182cont_pipeline_v0.1.fits'\n",
    "if os.path.exists(file):\n",
    "    paa_minus_cont = fits.getdata(file)\n",
    "\n",
    "else:\n",
    "    ww187 = wcs.WCS(fh_187['SCI'].header)\n",
    "    ww182 = wcs.WCS(fh_182['SCI'].header)\n",
    "    instrument = fh_187[0].header['INSTRUME']\n",
    "    telescope = fh_187[0].header['TELESCOP']\n",
    "    filt187 = fh_187[0].header['FILTER']\n",
    "    wavelength_table_187 = SvoFps.get_transmission_data(f'{telescope}/{instrument}.{filt187}')\n",
    "    filt182 = fh_182[0].header['FILTER']\n",
    "    wavelength_table_182 = SvoFps.get_transmission_data(f'{telescope}/{instrument}.{filt182}')\n",
    "    waves_182 = wavelength_table_182['Wavelength']\n",
    "    trans_187 = np.interp(waves_182, wavelength_table_187['Wavelength'], wavelength_table_187['Transmission'])\n",
    "    trans_182 = wavelength_table_182['Transmission']\n",
    "\n",
    "    fractional_bandwidth_187 = ( (trans_182/trans_182.max()) * (trans_187/trans_187.max()) ).sum() / (trans_182/trans_182.max()).sum()\n",
    "\n",
    "    data_187_proj_182 = reproject.reproject_exact(fh_187['SCI'], fh_182['SCI'].header)\n",
    "\n",
    "    cont182_sub_187 = (fh_182['SCI'].data - data_187_proj_182[0]*fractional_bandwidth_187) / (1-fractional_bandwidth_187)\n",
    "    #fits.PrimaryHDU(data=cont182_sub_187, header=fh_182['SCI'].header).writeto(f'{basepath}/F182_minus_F187_fractional_bandwidth_pipeline_v0.1.fits', overwrite=True)\n",
    "\n",
    "    paa_minus_cont = data_187_proj_182[0] - cont182_sub_187 #* fractional_bandwidth_405\n",
    "    fits.PrimaryHDU(data=paa_minus_cont, header=fh_182['SCI'].header).writeto(f'{basepath}/F187_minus_F182cont_pipeline_v0.1.fits', overwrite=Flase)"
   ]
  },
  {
   "cell_type": "code",
   "execution_count": 4,
   "id": "4a8029f3",
   "metadata": {},
   "outputs": [
    {
     "name": "stderr",
     "output_type": "stream",
     "text": [
      "WARNING: FITSFixedWarning: 'datfix' made the change 'Set DATE-BEG to '2024-09-07T15:37:25.727' from MJD-BEG.\n",
      "Set DATE-AVG to '2024-09-07T16:21:01.359' from MJD-AVG.\n",
      "Set DATE-END to '2024-09-07T17:05:17.716' from MJD-END'. [astropy.wcs.wcs]\n",
      "WARNING: FITSFixedWarning: 'obsfix' made the change 'Set OBSGEO-L to   -35.958295 from OBSGEO-[XYZ].\n",
      "Set OBSGEO-B to    -4.647443 from OBSGEO-[XYZ].\n",
      "Set OBSGEO-H to 1298271102.952 from OBSGEO-[XYZ]'. [astropy.wcs.wcs]\n",
      "WARNING: FITSFixedWarning: 'datfix' made the change 'Set DATE-BEG to '2024-09-07T15:37:25.727' from MJD-BEG.\n",
      "Set DATE-AVG to '2024-09-07T16:21:01.379' from MJD-AVG.\n",
      "Set DATE-END to '2024-09-07T17:05:17.716' from MJD-END'. [astropy.wcs.wcs]\n",
      "/blue/adamginsburg/nbudaiev/python_env/JWST_SgrB2/lib/python3.12/site-packages/reproject/common.py:170: UserWarning: The reproject_exact function currently has precision issues with images that have resolutions below ~0.05 arcsec, so the results may not be accurate.\n",
      "  return reproject_func(\n"
     ]
    }
   ],
   "source": [
    "data_paa_proj_bra = reproject.reproject_exact((paa_minus_cont, fh_182['SCI'].header), fh_410['SCI'].header)"
   ]
  },
  {
   "cell_type": "code",
   "execution_count": 5,
   "id": "39379e9b-8297-4bd8-8091-73a6745f9094",
   "metadata": {},
   "outputs": [],
   "source": [
    "paa_bra_ratio_BW_scaled = (data_paa_proj_bra[0] * 0.024 ) / (bra_minus_cont * 0.046) # values taken from https://jwst-docs.stsci.edu/jwst-near-infrared-camera/nircam-instrumentation/nircam-filters#NIRCamFilters-tablenotes"
   ]
  },
  {
   "cell_type": "code",
   "execution_count": 6,
   "id": "3bee9751-fbac-46b9-b9b8-e5a404e94b92",
   "metadata": {},
   "outputs": [],
   "source": [
    "#From Draine 2011:\n",
    "#At 5000K: 3.95\n",
    "#at 10000K: 4.24\n",
    "#at 20000K: 4.55\n",
    "emissivity_ratio = 4.24"
   ]
  },
  {
   "cell_type": "code",
   "execution_count": 7,
   "id": "5c5903b3",
   "metadata": {},
   "outputs": [],
   "source": [
    "from dust_extinction.parameter_averages import CCM89, G23"
   ]
  },
  {
   "cell_type": "code",
   "execution_count": 8,
   "id": "46e76aa9",
   "metadata": {},
   "outputs": [],
   "source": [
    "ext = G23(Rv=3.1)\n",
    "R_intrinsic = emissivity_ratio"
   ]
  },
  {
   "cell_type": "code",
   "execution_count": 9,
   "id": "15f637a2",
   "metadata": {},
   "outputs": [],
   "source": [
    "wavelengths = np.array([1.87, 4.05])* u.micron\n",
    "A_lambda_over_Av = ext(wavelengths)\n",
    "k = A_lambda_over_Av[0] - A_lambda_over_Av[1]"
   ]
  },
  {
   "cell_type": "code",
   "execution_count": 10,
   "id": "f9e88ea2",
   "metadata": {},
   "outputs": [
    {
     "name": "stderr",
     "output_type": "stream",
     "text": [
      "/scratch/local/6867921/ipykernel_3780274/1980414983.py:1: RuntimeWarning: invalid value encountered in log10\n",
      "  A_V = 2.5 * np.log10(R_intrinsic / paa_bra_ratio_BW_scaled) / k\n"
     ]
    }
   ],
   "source": [
    "A_V = 2.5 * np.log10(R_intrinsic / paa_bra_ratio_BW_scaled) / k"
   ]
  },
  {
   "cell_type": "code",
   "execution_count": 11,
   "id": "4e4172f8",
   "metadata": {},
   "outputs": [
    {
     "data": {
      "text/plain": [
       "177.14184008461908"
      ]
     },
     "execution_count": 11,
     "metadata": {},
     "output_type": "execute_result"
    }
   ],
   "source": [
    "np.nanmax(A_V)  "
   ]
  },
  {
   "cell_type": "code",
   "execution_count": 12,
   "id": "2cc04332",
   "metadata": {},
   "outputs": [],
   "source": [
    "A_K_over_AV = ext(2.2*u.micron) # using 2.2 microns to get the ratio of A_V and A_K\n",
    "A_K = A_K_over_AV * A_V"
   ]
  },
  {
   "cell_type": "code",
   "execution_count": 13,
   "id": "8d28bf48",
   "metadata": {},
   "outputs": [
    {
     "data": {
      "text/plain": [
       "17.998429842517094"
      ]
     },
     "execution_count": 13,
     "metadata": {},
     "output_type": "execute_result"
    }
   ],
   "source": [
    "np.nanmax(A_K)"
   ]
  },
  {
   "cell_type": "code",
   "execution_count": 14,
   "id": "084e5423",
   "metadata": {},
   "outputs": [],
   "source": [
    "def get_extinction(observed_ratio_BW_scaled):\n",
    "    #ext = CCM89(Rv=3.1) \n",
    "    ext = G23(Rv=3.1) #CCM89 is not defined for wavelengths > 3.5 microns\n",
    "    #From Draine 2011:\n",
    "    #At 5000K: 3.95\n",
    "    #at 10000K: 4.24\n",
    "    #at 20000K: 4.55\n",
    "    emissivity_ratio = 4.24\n",
    "    R_intrinsic = emissivity_ratio\n",
    "    \n",
    "    wavelengths = np.array([1.87, 4.05]) * u.micron # important to specifcy units, otherwise \"ext()\" assumes inverse microns\n",
    "    A_lambda_over_Av = ext(wavelengths)\n",
    "    k = A_lambda_over_Av[0] - A_lambda_over_Av[1]\n",
    "    A_V = 2.5 * np.log10(R_intrinsic / observed_ratio_BW_scaled) / k\n",
    "\n",
    "    A_K_over_AV = ext(2.2*u.micron) # using 2.2 microns to get the ratio of A_V and A_K\n",
    "    A_K = A_K_over_AV * A_V\n",
    "\n",
    "    return A_V, A_K"
   ]
  },
  {
   "cell_type": "code",
   "execution_count": 15,
   "id": "7a96272a",
   "metadata": {},
   "outputs": [
    {
     "name": "stderr",
     "output_type": "stream",
     "text": [
      "/scratch/local/6867921/ipykernel_3780274/2958818747.py:14: RuntimeWarning: invalid value encountered in log10\n",
      "  A_V = 2.5 * np.log10(R_intrinsic / observed_ratio_BW_scaled) / k\n"
     ]
    }
   ],
   "source": [
    "A_V, A_K = get_extinction(paa_bra_ratio_BW_scaled)"
   ]
  },
  {
   "cell_type": "code",
   "execution_count": 16,
   "id": "f1da9dd2",
   "metadata": {},
   "outputs": [
    {
     "data": {
      "text/plain": [
       "(177.14184008461908, 17.998429842517094)"
      ]
     },
     "execution_count": 16,
     "metadata": {},
     "output_type": "execute_result"
    }
   ],
   "source": [
    "np.nanmax(A_V), np.nanmax(A_K)"
   ]
  },
  {
   "cell_type": "code",
   "execution_count": 17,
   "id": "df22873b",
   "metadata": {},
   "outputs": [],
   "source": [
    "fits.PrimaryHDU(data=A_K, header=fh_410['SCI'].header).writeto(f'{basepath}/A_K_map_assuming_Cardelli_law.fits', overwrite=True)"
   ]
  },
  {
   "cell_type": "code",
   "execution_count": null,
   "id": "06b53a8b",
   "metadata": {},
   "outputs": [
    {
     "name": "stderr",
     "output_type": "stream",
     "text": [
      "WARNING: FITSFixedWarning: 'datfix' made the change 'Set DATE-BEG to '2024-09-07T15:37:25.727' from MJD-BEG.\n",
      "Set DATE-AVG to '2024-09-07T16:21:01.359' from MJD-AVG.\n",
      "Set DATE-END to '2024-09-07T17:05:17.716' from MJD-END'. [astropy.wcs.wcs]\n",
      "WARNING: FITSFixedWarning: 'obsfix' made the change 'Set OBSGEO-L to   -35.958295 from OBSGEO-[XYZ].\n",
      "Set OBSGEO-B to    -4.647443 from OBSGEO-[XYZ].\n",
      "Set OBSGEO-H to 1298271102.952 from OBSGEO-[XYZ]'. [astropy.wcs.wcs]\n",
      "WARNING: FITSFixedWarning: 'datfix' made the change 'Set DATE-BEG to '2024-09-07T15:37:25.727' from MJD-BEG.\n",
      "Set DATE-AVG to '2024-09-07T16:21:01.379' from MJD-AVG.\n",
      "Set DATE-END to '2024-09-07T17:05:17.716' from MJD-END'. [astropy.wcs.wcs]\n",
      "/blue/adamginsburg/nbudaiev/python_env/JWST_SgrB2/lib/python3.12/site-packages/reproject/common.py:170: UserWarning: The reproject_exact function currently has precision issues with images that have resolutions below ~0.05 arcsec, so the results may not be accurate.\n",
      "  return reproject_func(\n"
     ]
    }
   ],
   "source": [
    "paa_emission_threhsold = 1.5 # MJy/sr -- determined by visual inspection of the Paa image\n",
    "paa_minus_cont_masked = paa_minus_cont.copy()\n",
    "paa_minus_cont_masked[paa_minus_cont_masked < paa_emission_threhsold]= np.nan\n",
    "data_paa_proj_bra_masked = reproject.reproject_exact((paa_minus_cont_masked, fh_182['SCI'].header), fh_410['SCI'].header)"
   ]
  },
  {
   "cell_type": "code",
   "execution_count": 19,
   "id": "bdc29e2e-d9c1-4983-8947-51f72e27b5ff",
   "metadata": {},
   "outputs": [],
   "source": [
    "paa_bra_ratio_BW_scaled_masked_paa = (data_paa_proj_bra_masked[0] * 0.024 ) / (bra_minus_cont * 0.046)"
   ]
  },
  {
   "cell_type": "code",
   "execution_count": 27,
   "id": "05509bab-509b-4096-9c03-4809dbfc632c",
   "metadata": {},
   "outputs": [
    {
     "name": "stderr",
     "output_type": "stream",
     "text": [
      "/scratch/local/6867921/ipykernel_3780274/2958818747.py:14: RuntimeWarning: invalid value encountered in log10\n",
      "  A_V = 2.5 * np.log10(R_intrinsic / observed_ratio_BW_scaled) / k\n"
     ]
    }
   ],
   "source": [
    "A_K_masked_paa = get_extinction(paa_bra_ratio_BW_scaled_masked_paa)[1]"
   ]
  },
  {
   "cell_type": "code",
   "execution_count": 26,
   "id": "fb916752",
   "metadata": {},
   "outputs": [
    {
     "data": {
      "text/plain": [
       "10.556998288704204"
      ]
     },
     "execution_count": 26,
     "metadata": {},
     "output_type": "execute_result"
    }
   ],
   "source": [
    "np.nanmax(A_K_masked_paa)"
   ]
  },
  {
   "cell_type": "code",
   "execution_count": 21,
   "id": "d7fe2b5a-3184-4d13-a7f6-bdb3bd0214a5",
   "metadata": {},
   "outputs": [],
   "source": [
    "fits.PrimaryHDU(data=A_K_masked_paa, header=fh_410['SCI'].header).writeto(f'{basepath}/A_K_map_assuming_Cardelli_law_Paa_based_mask.fits', overwrite=True)"
   ]
  },
  {
   "cell_type": "code",
   "execution_count": null,
   "id": "61847b79",
   "metadata": {},
   "outputs": [],
   "source": [
    "bra_emission_threhsold = 3 # MJy/sr -- determined by visual inspection of the Bra image\n",
    "bra_minus_cont_masked = bra_minus_cont.copy()\n",
    "bra_minus_cont_masked[bra_minus_cont_masked < bra_emission_threhsold]= np.nan"
   ]
  },
  {
   "cell_type": "code",
   "execution_count": 23,
   "id": "33170f48",
   "metadata": {},
   "outputs": [
    {
     "name": "stderr",
     "output_type": "stream",
     "text": [
      "/scratch/local/6867921/ipykernel_3780274/2958818747.py:14: RuntimeWarning: invalid value encountered in log10\n",
      "  A_V = 2.5 * np.log10(R_intrinsic / observed_ratio_BW_scaled) / k\n"
     ]
    }
   ],
   "source": [
    "paa_bra_ratio_BW_scaled_masked_bra = (data_paa_proj_bra[0] * 0.024 ) / (bra_minus_cont_masked * 0.046)\n",
    "A_K_masked_bra = get_extinction(paa_bra_ratio_BW_scaled_masked_bra)[1]\n",
    "fits.PrimaryHDU(data=A_K_masked_bra, header=fh_410['SCI'].header).writeto(f'{basepath}/A_K_map_assuming_Cardelli_law_Bra_based_mask.fits', overwrite=True)"
   ]
  },
  {
   "cell_type": "code",
   "execution_count": 28,
   "id": "a31b0bb2",
   "metadata": {},
   "outputs": [
    {
     "data": {
      "text/plain": [
       "15.817447016839456"
      ]
     },
     "execution_count": 28,
     "metadata": {},
     "output_type": "execute_result"
    }
   ],
   "source": [
    "np.nanmax(A_K_masked_bra)"
   ]
  }
 ],
 "metadata": {
  "kernelspec": {
   "display_name": "Python 3",
   "language": "python",
   "name": "python3"
  },
  "language_info": {
   "codemirror_mode": {
    "name": "ipython",
    "version": 3
   },
   "file_extension": ".py",
   "mimetype": "text/x-python",
   "name": "python",
   "nbconvert_exporter": "python",
   "pygments_lexer": "ipython3",
   "version": "3.12.5"
  }
 },
 "nbformat": 4,
 "nbformat_minor": 5
}
